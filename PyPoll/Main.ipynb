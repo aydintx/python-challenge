{
 "cells": [
  {
   "cell_type": "code",
   "execution_count": 12,
   "metadata": {},
   "outputs": [
    {
     "name": "stdout",
     "output_type": "stream",
     "text": [
      "Election Results\n",
      "-------------------------\n",
      "Total Votes: 3521001\n",
      "-------------------------\n",
      "Khan: 63.0% (2218231)\n",
      "Correy: 20.0% (704200)\n",
      "Li: 14.0% (492940)\n",
      "O'Tooley: 3.0% (105630)\n",
      "-------------------------\n",
      "Winner: Khan\n",
      "-------------------------\n"
     ]
    }
   ],
   "source": [
    "import os\n",
    "import csv\n",
    "filename=\"election_data.csv\"\n",
    "# Set path for file\n",
    "csvpath = os.path.join(filename)\n",
    "with open(csvpath, newline='') as csvfile:\n",
    "\n",
    "#   CSV reader specifies delimiter and variable that holds contents\n",
    "\n",
    "    csvreader = csv.reader(csvfile, delimiter=',')\n",
    "#     print(csvreader)\n",
    "\n",
    "#    Read the header row first \n",
    "\n",
    "    csv_header = next(csvreader)\n",
    "\n",
    "    #print(f\"CSV Header: {csv_header}\")\n",
    "\n",
    "    # Read each row of data after the header\n",
    "    voters=0\n",
    "    votes={} # candidates and their votes\n",
    "\n",
    "    for row in csvreader:\n",
    "        #print(row)\n",
    "        voters+=1\n",
    "        votes.update({row[2]: 0})\n",
    "        # forms the dictionary with the candidate names and initial vote counts.\n",
    "with open(csvpath, newline='') as csvfile:\n",
    "#   CSV reader specifies delimiter and variable that holds contents\n",
    "    csvreader = csv.reader(csvfile, delimiter=',')\n",
    "    for x in votes:\n",
    "#         print(x)\n",
    "        for row in csvreader:\n",
    "            if row[2] in votes:\n",
    "                votes[row[2]]=votes[row[2]]+1\n",
    "\n",
    "# Converts dictionary to a list\n",
    "\n",
    "candidates_votes=[]\n",
    "\n",
    "temp=[]\n",
    "\n",
    "for key, value in votes.items():\n",
    "\n",
    "    temp = [key,value]\n",
    "\n",
    "    candidates_votes.append(temp)\n",
    "\n",
    "#print(candidates_votes)\n",
    "\n",
    "#Sorting the candidate votes descending\n",
    "\n",
    "candidates_votes.sort(key=lambda x: x[1], reverse=True)\n",
    "\n",
    "#print(candidates_votes)\n",
    "\n",
    "print(\"Election Results\")\n",
    "\n",
    "print(\"-------------------------\")\n",
    "\n",
    "print(f\"Total Votes: {voters}\")\n",
    "\n",
    "print(\"-------------------------\")\n",
    "\n",
    "for i in range(0,len(candidates_votes)):\n",
    "\n",
    "     print(f\"{candidates_votes[i][0]}: {round(candidates_votes[i][1]*100/voters,3)}% ({candidates_votes[i][1]})\")\n",
    "\n",
    "print(\"-------------------------\")\n",
    "\n",
    "print(f\"Winner: {candidates_votes[0][0]}\")\n",
    "print(\"-------------------------\")\n",
    "\n",
    "\n"
   ]
  },
  {
   "cell_type": "code",
   "execution_count": null,
   "metadata": {},
   "outputs": [],
   "source": []
  },
  {
   "cell_type": "code",
   "execution_count": null,
   "metadata": {},
   "outputs": [],
   "source": []
  }
 ],
 "metadata": {
  "kernelspec": {
   "display_name": "Python 3",
   "language": "python",
   "name": "python3"
  },
  "language_info": {
   "codemirror_mode": {
    "name": "ipython",
    "version": 3
   },
   "file_extension": ".py",
   "mimetype": "text/x-python",
   "name": "python",
   "nbconvert_exporter": "python",
   "pygments_lexer": "ipython3",
   "version": "3.7.1"
  }
 },
 "nbformat": 4,
 "nbformat_minor": 2
}
